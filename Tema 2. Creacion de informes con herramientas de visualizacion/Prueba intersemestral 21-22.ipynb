{
 "cells": [
  {
   "cell_type": "markdown",
   "metadata": {},
   "source": [
    "# Prueba Intersemestral de desarrollo de aplicaciones para la visualización de datos\n",
    "\n",
    "__Nombre:__\n",
    "\n",
    "__Apellidos:__\n",
    "\n",
    "__TIEMPO DEL EXAMEN: 2 HORAS__\n",
    "\n",
    "__Para que una pregunta tenga la puntuación completa deberá tener los gráficos con Plotly, el descuento por usar Seaborn o Matplotlib será pequeño.__"
   ]
  },
  {
   "cell_type": "markdown",
   "metadata": {},
   "source": [
    "# Librerías necesarias"
   ]
  },
  {
   "cell_type": "code",
   "execution_count": null,
   "metadata": {},
   "outputs": [],
   "source": []
  },
  {
   "cell_type": "markdown",
   "metadata": {},
   "source": [
    "# Ejercicio 1 (2 puntos):\n",
    "\n",
    "a) Crea una función que reciba un número entero positivo y devuelva una lista con todos sus divisores (__0.6 puntos__)\n",
    "\n",
    "b) Crea una función que verifique si un número es primo o no (__0.6 puntos__)\n",
    "\n",
    "c) Muestra una lista con todos los números primos menores que 100 usando las dos funciones anteriores (__0.6 puntos__)\n",
    "\n",
    "d) Programa otra forma (más eficiente) de mostrar la lista anterior. Para comparar los tiempos de cómputo puedes usar %%time al inicio de la celda para ver los tiempos de cómputo. (__0.2 puntos__)"
   ]
  },
  {
   "cell_type": "code",
   "execution_count": null,
   "metadata": {},
   "outputs": [],
   "source": []
  },
  {
   "cell_type": "markdown",
   "metadata": {},
   "source": [
    "# Ejercicio 2 (4 puntos)\n",
    "\n",
    "a) Extrae de sklearn el conjunto de datos Wine recognition dataset y transfórmalos a dataframe de pandas (__0.25 puntos__)\n",
    "\n",
    "b) Construye una regresión logística y un random forest que predigan la clase del vino según los datos disponibles. (__0.75 puntos__)\n",
    "\n",
    "c) Visualiza cuales son las variables más importantes en cada uno de los modelos. (__1.5 puntos__)\n",
    "\n",
    "d) Visualiza mediante una curva ROC y decide a través del gráfico y de alguna métrica adicional, cuál de los dos modelos es mejor y por qué. (__1.5 puntos__)"
   ]
  },
  {
   "cell_type": "code",
   "execution_count": null,
   "metadata": {},
   "outputs": [],
   "source": []
  },
  {
   "cell_type": "markdown",
   "metadata": {},
   "source": [
    "# Ejercicio 3 (4 puntos):\n",
    "\n",
    "Consideramos el conjunto de datos placement.csv que se encuentra en la carpeta de teams correspondiente.\n",
    "\n",
    "Información de las variables:\n",
    " * sl_no: Serial Number\n",
    " * gender: Male 'M', Female 'F'\n",
    " * ssc_p: Secondary Education Percentage - 10th grade\n",
    " * ssc_b: Board of education (Central, Others)\n",
    " * hsc_p: Higher Secondary Education percentage - 12th Grade\n",
    " * hsc_b: Board of education (Central, Others)\n",
    " * hsc_s: Specialization in Higher Secondary Education\n",
    " * degree_p: Degree Percentage\n",
    " * degree_t: Under Graduation(Degree type)- Field of degree education\n",
    " * workex: Work Experience\n",
    " * etest_p: Employability test percentage\n",
    " * specialisation: Post Graduation (MBA) - specialization\n",
    " * mba_p: MBA percentage\n",
    " * status: Placed/Not placed \n",
    " * salary: Salary offered by corporate to candidates\n",
    " \n",
    "__IMPORTANTE: Si un status es \"Not Placed\" su salario será siempre NA__\n",
    "\n",
    "a) Lee el fichero en formato dataframe. (__0.25 puntos__)\n",
    "\n",
    "Vamos a realizar un análisis exploratorio de los datos con el fin de extraer información sobre los salarios ofrecidos. Para los apartados c), d), e), f) y g) será imprescindible acompañar la respuesta con un gráfico. \n",
    "\n",
    "b) ¿Cuántos datos desconocidos tenemos? (__0.25 puntos__)\n",
    "\n",
    "c) ¿Cuál es la distribución general de los salarios ofrecidos? (__0.5 puntos__)\n",
    "\n",
    "d) ¿Cómo influye la existencia o no de experiencia previa en el salario ofrecido? (__0.75 puntos__)\n",
    "\n",
    "e) ¿Qué tipo de grado han realizado aquellas personas a las que la empresa les ofreció más de 300.000? (__0.75 puntos__)\n",
    "\n",
    "f) ¿Existe alguna correlación entre la puntuación del test de empleabilidad y su salario ofrecido? (__0.75 puntos__)\n",
    "\n",
    "g) Agrupa los 4 gráficos realizados en uno solo con toda la información recopilada. (__0.75 puntos__)\n",
    "\n",
    "__IMPORTANTE: Un gráfico por si solo no responde a la pregunta, un gráfico y un comentario sobre la interpretación del mismo sí.__"
   ]
  },
  {
   "cell_type": "code",
   "execution_count": null,
   "metadata": {},
   "outputs": [],
   "source": []
  }
 ],
 "metadata": {
  "kernelspec": {
   "display_name": "Python 3 (ipykernel)",
   "language": "python",
   "name": "python3"
  },
  "language_info": {
   "codemirror_mode": {
    "name": "ipython",
    "version": 3
   },
   "file_extension": ".py",
   "mimetype": "text/x-python",
   "name": "python",
   "nbconvert_exporter": "python",
   "pygments_lexer": "ipython3",
   "version": "3.9.7"
  }
 },
 "nbformat": 4,
 "nbformat_minor": 4
}
