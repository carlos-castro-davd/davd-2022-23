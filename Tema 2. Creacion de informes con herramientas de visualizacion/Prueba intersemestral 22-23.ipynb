{
 "cells": [
  {
   "cell_type": "markdown",
   "metadata": {},
   "source": [
    "# Prueba Intersemestral de desarrollo de aplicaciones para la visualización de datos\n",
    "\n",
    "__Nombre:__\n",
    "\n",
    "__Apellidos:__\n",
    "\n",
    "__TIEMPO DE LA PRUEBA: 2 HORAS__\n",
    "\n",
    "__Para que un apartado tenga la puntuación completa deberá tener los gráficos con Plotly (Plotly Express también está permitido), el descuento por usar Seaborn o Matplotlib será pequeño. Tened en cuenta que, una visualización breve, escueta y pobre conllevará una nota breve, escueta y pobre.__"
   ]
  },
  {
   "cell_type": "markdown",
   "metadata": {},
   "source": [
    "# Librerías necesarias"
   ]
  },
  {
   "cell_type": "code",
   "execution_count": null,
   "metadata": {},
   "outputs": [],
   "source": []
  },
  {
   "cell_type": "markdown",
   "metadata": {},
   "source": [
    "# Ejercicio 1 (2 puntos):\n",
    "\n",
    "a) Construye una clase que: dados tres números positivos a, b y c que cumplan la desigualdad triangular entre ellos, tenga dos métodos que calculen el perímetro y el área del triángulo que forman. (__1 punto__)\n",
    "\n",
    "b) Construye dos funciones que: dados dos triángulos que compartan, al menos, un lado del mismo tamaño calcule cuál sería el perímetro y el area resultante del cuadrilátero generado tras unir los lados iguales. (En caso de que haya dos o más lados iguales, que elija siempre el mayor) (__0.8 puntos__)\n",
    "\n",
    "c) Muestra y explica con un ejemplo el funcionamiento del código que has construido en el apartado anterior. (__0.2 puntos__)\n",
    "\n",
    "**NOTA:** Para el apartado 1, puede ser interesante usar la fórmula de Herón"
   ]
  },
  {
   "cell_type": "code",
   "execution_count": null,
   "metadata": {},
   "outputs": [],
   "source": []
  },
  {
   "cell_type": "markdown",
   "metadata": {},
   "source": [
    "# Ejercicio 2 (4 puntos)\n",
    "\n",
    "a) Lee el fichero csv contenido en la carpeta datos_prueba_intersemestral/ejercicio2 dentro de Teams y muestra un fragmento de los datos que contiene (__0.25 puntos__)\n",
    "\n",
    "b) Construye un modelo de regresión que permita predecir precio del coche en función de tantos atributos como sea posible que se encuentren disponibles. Evalúa los resultados con, al menos, dos métricas diferentes y comenta los resultados. (__1.5 puntos__)\n",
    "\n",
    "c) Visualiza cuales son las variables más importantes del modelo anterior. (__0.75 puntos__)\n",
    "\n",
    "d) Dado que el número de variables se considera demasiado grande para un modelo de estas características, se pide seleccionar en base a un criterio justificado las mejores variables y construir un modelo con solamente 10 variables. Reevaluar los resultados y comentar las diferencias con respecto al apartado b) ¿Ha cambiado la importancia de las variables?. (__1.5 puntos__)"
   ]
  },
  {
   "cell_type": "code",
   "execution_count": null,
   "metadata": {},
   "outputs": [],
   "source": []
  },
  {
   "cell_type": "markdown",
   "metadata": {},
   "source": [
    "# Ejercicio 3 (4 puntos):\n",
    "\n",
    "Consideramos el conjunto de datos dentro de la carpeta datos_prueba_intersemestral/ejercicio3 en Teams.\n",
    "\n",
    "a) Lee el fichero de datos contenido en la carpeta y muestra un fragmento de los datos (__0.25 puntos__)\n",
    "\n",
    "b) ¿Cuantos datos desconocidos tenemos en cada variable? (__0.25 puntos__)\n",
    "\n",
    "c) Visualiza cuáles son los medios más frecuentes de contratación de esta empresa.  (__0.5 puntos__)\n",
    "\n",
    "d) Entre los empleados que han dejado la compañía, ¿cuál es la distribución de tiempos de permanencia en la empresa? ¿Y qué podrías decir sobre las causas del cese? (__1.5 puntos__)\n",
    "\n",
    "e) Influyen los años de experiencia de los empleados dentro de la empresa en los salarios de las personas que comparten un mismo tipo de trabajo. (__0.75 puntos__)\n",
    "\n",
    "f) ¿Hay diferencias de salario entre hombres y mujeres que comparten el mismo tipo de trabajo? ¿Y con respecto a la raza, habría diferencias? (__0.75 puntos__)\n",
    "\n",
    "__IMPORTANTE: Un gráfico por si solo no responde a la pregunta, un gráfico y un comentario sobre la interpretación del mismo sí.__"
   ]
  },
  {
   "cell_type": "code",
   "execution_count": null,
   "metadata": {},
   "outputs": [],
   "source": []
  }
 ],
 "metadata": {
  "kernelspec": {
   "display_name": "Python 3 (ipykernel)",
   "language": "python",
   "name": "python3"
  },
  "language_info": {
   "codemirror_mode": {
    "name": "ipython",
    "version": 3
   },
   "file_extension": ".py",
   "mimetype": "text/x-python",
   "name": "python",
   "nbconvert_exporter": "python",
   "pygments_lexer": "ipython3",
   "version": "3.9.7"
  }
 },
 "nbformat": 4,
 "nbformat_minor": 4
}
