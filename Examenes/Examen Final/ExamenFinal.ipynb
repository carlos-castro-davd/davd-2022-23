{
 "cells": [
  {
   "cell_type": "markdown",
   "metadata": {},
   "source": [
    "# Examen final de desarrollo de aplicaciones para la visualización de datos\n",
    "\n",
    "__Nombre:__\n",
    "\n",
    "__Apellidos:__\n",
    "\n",
    "__TIEMPO DEL EXAMEN: 2 HORAS Y MEDIA__\n",
    "\n",
    "__Para que una pregunta tenga la puntuación completa deberá tener los gráficos con Plotly, el descuento por usar Seaborn o Matplotlib será pequeño.__"
   ]
  },
  {
   "cell_type": "markdown",
   "metadata": {},
   "source": [
    "# Contexto del ejercicio\n",
    "\n",
    "Una cadena de gimnasios ha realizado una serie de mediciones y pruebas a 13392 clientes diferentes y los ha clasificado en 4 categorías distintas A,B,C,D donde A es tener la mejor forma física y sigue en orden descendente. La idea es buscar patrones tanto de rendimiento físico como de características fisiológicas entre los diferentes grupos, para ello se pide:\n",
    "\n",
    "* Realizar un análisis descriptivo de los datos con **al menos, 6 visualizaciones diferentes**. (3 Puntos) (*)\n",
    "* Montar un dashboard con **al menos, 4 visualizaciones diferentes, 2 componentes interactivas y 1 callback** (5.5 Puntos) (*)\n",
    "* Concluir todo este análisis haciendo recomendaciones para la mejora del rendimiento físico a cada uno de los grupos atendiendo a los resultados obtenidos en los datos. (1.5 Puntos)\n",
    "\n",
    "Para realizar este análisis se presentan las siguientes variables:\n",
    "\n",
    "* Edad\n",
    "* Sexo\n",
    "* Altura en cms\n",
    "* Peso en kilos\n",
    "* Grasa corporal en %\n",
    "* Presion diastólica\n",
    "* Presion sistólica\n",
    "* Fuerza en el agarre\n",
    "* Sit and bend forward (ejercicio de flexibilidad) en cms\n",
    "* Sit ups (Abdominales) en repeticiones\n",
    "* Salto de longitud en cms\n",
    "* Clase (A,B,C,D)\n",
    "\n",
    "Recuerda, si tuvieras que programar una función, comentar los argumentos de entrada y salida. Explica el orden que estás siguiendo a la hora de elegir las visualizaciones y comenta las conclusiones que vas sacando.\n",
    "\n",
    "(\\*) **IMPORTANTE:** Podéis elegir realizar un modelo de clasificación y realizar visualizaciones en torno a ese modelo en los primeros dos apartados. Esta parte no es obligatoria. \n",
    "\n"
   ]
  },
  {
   "cell_type": "markdown",
   "metadata": {},
   "source": [
    "# Librerías necesarias"
   ]
  },
  {
   "cell_type": "code",
   "execution_count": null,
   "metadata": {},
   "outputs": [],
   "source": []
  },
  {
   "cell_type": "markdown",
   "metadata": {},
   "source": [
    "# Análisis descriptivo"
   ]
  },
  {
   "cell_type": "code",
   "execution_count": null,
   "metadata": {},
   "outputs": [],
   "source": []
  }
 ],
 "metadata": {
  "kernelspec": {
   "display_name": "Python 3 (ipykernel)",
   "language": "python",
   "name": "python3"
  },
  "language_info": {
   "codemirror_mode": {
    "name": "ipython",
    "version": 3
   },
   "file_extension": ".py",
   "mimetype": "text/x-python",
   "name": "python",
   "nbconvert_exporter": "python",
   "pygments_lexer": "ipython3",
   "version": "3.9.7"
  }
 },
 "nbformat": 4,
 "nbformat_minor": 4
}
