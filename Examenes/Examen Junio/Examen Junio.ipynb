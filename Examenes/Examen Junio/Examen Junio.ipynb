{
 "cells": [
  {
   "cell_type": "markdown",
   "id": "2f262df2",
   "metadata": {},
   "source": [
    "# Examen de Junio de desarrollo de aplicaciones para la visualización de datos\n",
    "\n",
    "__Nombre:__\n",
    "\n",
    "__Apellidos:__\n",
    "\n",
    "__TIEMPO DEL EXAMEN: 3 HORAS__\n",
    "\n",
    "__Para que una pregunta tenga la puntuación completa deberá tener los gráficos con Plotly, el descuento por usar Seaborn o Matplotlib será pequeño.__\n"
   ]
  },
  {
   "cell_type": "markdown",
   "id": "e52e02f1",
   "metadata": {},
   "source": [
    "# Contexto del ejercicio\n",
    "\n",
    "##### Una televisión inglesa quiere realizar un reportaje documentado con datos sobre el cambio climático en Londrés y pretende visualizar los datos del tiempo que tiene disponibles para poder sacar conclusiones a partir de ellos. Para ello se facilita información climatológica diaria de Londres en el conjunto de datos que se encuentra en el fichero *weather_data.csv*. Allí podemos encontrar las siguientes mediciones:\n",
    "\n",
    "* date - Fecha de la medida tomada (detalle diario)\n",
    "* cloud_cover - Nubosidad observable en octas\n",
    "* sunshine - Horas de sol\n",
    "* global_radiation - Irradiancia en vatios por metro cuadrado\n",
    "* max_temp - Temperatura máxima en grados celsius\n",
    "* mean_temp - Temperatura media en grados celsius\n",
    "* min_temp - Temperatura mínima en grados celsius\n",
    "* precipitation - Precipitaciones en milímetros\n",
    "* pressure - Presión atmosférica en Pascales\n",
    "* snow_depth - Profundidad de la nieve en centímetros\n",
    "\n",
    "##### Con esta información la empresa responsable de los datos quiere realizar las siguientes transformaciones/visualizaciones en los datos\n",
    "\n",
    "1) Transformar la variable **date** en formato de fecha (**0.25 Puntos**)\n",
    "\n",
    "2) Contar los valores desconocidos que tenemos en cada una de las variables (**0.25 Puntos**)\n",
    "\n",
    "3) ¿Que correlación tienen las variables entre ellas? Visualiza e interpreta los resultados (**0.5 Puntos**)\n",
    "\n",
    "4) Sin usar las variables **min_temp** y **max_temp** construye un modelo de regresión que prediga cuál es la temperatura media del día en base al resto de mediciones diarias. Comenta las métricas que has utilizado para evaluar el error del modelo y visualiza cuales son las variables más importantes del modelo. Podrás utilizar variables adicionales si crees que pueden mejorar el modelo. (**1.5 Puntos**)\n",
    "\n",
    "5) ¿Cuantos centímetros de nieve hemos tenido cada año? Crea un gráfico que lo visualice e interpreta el resultado obtenido (**0.75 Puntos**)\n",
    "\n",
    "6) Durante los últimos 5 años solamente, ¿qué relación entre las precipitaciones y la presión atmosférica podemos encontrar en los datos? ¿Tienen que ver con algún factor estacional? Visualiza y comenta los resultados (**0.75 Puntos**)\n",
    "\n",
    "##### Una vez realizado este análisis, la empresa pretende realizar un resumen ejecutivo en un dashboard que contenga:\n",
    "\n",
    "1) Los gráficos de los apartados 4, 5 y 6 (**3 puntos**)\n",
    "\n",
    "2) Un gráfico con, al menos, un componente interactivo que visualice la evolución de las temperaturas máximas, mínimas y medias por mes (puedes usar la media de los datos disponibles de cada mes) durante todos los años de histórico. (**2 puntos**) \n",
    "\n",
    "3) Con toda la información que has extraído hasta ahora, ¿cómo dirías que ha afectado el cambio climático en Londres durante los últimos años? Dedica un párrafo al final del dashboard para comentar esto. (**1 punto**)"
   ]
  },
  {
   "cell_type": "markdown",
   "id": "1eb9c65f",
   "metadata": {},
   "source": [
    "# Librerías necesarias"
   ]
  },
  {
   "cell_type": "code",
   "execution_count": null,
   "id": "718d6150",
   "metadata": {},
   "outputs": [],
   "source": []
  },
  {
   "cell_type": "markdown",
   "id": "1249f930",
   "metadata": {},
   "source": [
    "# Primer bloque de ejercicios"
   ]
  },
  {
   "cell_type": "code",
   "execution_count": null,
   "id": "7b3445ea",
   "metadata": {},
   "outputs": [],
   "source": []
  }
 ],
 "metadata": {
  "kernelspec": {
   "display_name": "Python 3 (ipykernel)",
   "language": "python",
   "name": "python3"
  },
  "language_info": {
   "codemirror_mode": {
    "name": "ipython",
    "version": 3
   },
   "file_extension": ".py",
   "mimetype": "text/x-python",
   "name": "python",
   "nbconvert_exporter": "python",
   "pygments_lexer": "ipython3",
   "version": "3.9.7"
  }
 },
 "nbformat": 4,
 "nbformat_minor": 5
}
