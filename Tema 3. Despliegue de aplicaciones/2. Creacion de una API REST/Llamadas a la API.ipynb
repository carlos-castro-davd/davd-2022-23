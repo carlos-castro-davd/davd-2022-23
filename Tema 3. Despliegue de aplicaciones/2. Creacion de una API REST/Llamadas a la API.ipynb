{
 "cells": [
  {
   "cell_type": "code",
   "execution_count": 1,
   "metadata": {},
   "outputs": [],
   "source": [
    "import requests\n",
    "import pandas as pd"
   ]
  },
  {
   "cell_type": "code",
   "execution_count": 2,
   "metadata": {},
   "outputs": [],
   "source": [
    "url = \"http://127.0.0.1:5000/\"\n",
    "review_id = 2"
   ]
  },
  {
   "cell_type": "code",
   "execution_count": 8,
   "metadata": {
    "scrolled": true
   },
   "outputs": [
    {
     "name": "stdout",
     "output_type": "stream",
     "text": [
      "¿Cómo te llamas? Marcello\n",
      "¿Cuál ha sido tu opinión del restaurante? i tavoli non erano stabili ed e caduto il cibo a terra\n",
      "Valora de 1 a 5 tu experiencia en el restaurante 2\n"
     ]
    }
   ],
   "source": [
    "# Lo primero que haremos será añadir reviews\n",
    "name = input(\"¿Cómo te llamas? \")\n",
    "review = input(\"¿Cuál ha sido tu opinión del restaurante? \")\n",
    "valoracion = input(\"Valora de 1 a 5 tu experiencia en el restaurante \")\n",
    "\n",
    "response = requests.put(url + \"sentiment/{}\".format(review_id), {\"name\": name, \"review\": review, \"rating\": valoracion})\n",
    "\n",
    "review_id += 1"
   ]
  },
  {
   "cell_type": "code",
   "execution_count": 9,
   "metadata": {},
   "outputs": [
    {
     "name": "stdout",
     "output_type": "stream",
     "text": [
      "{'name': 'Carlos', 'review': 'El sitio es maravilloso', 'rating': None, 'prediction': '5', 'probability': 0.8307531476020813, 'timestamp': '2022-11-30 18:53:33.907775'}\n",
      "{'name': 'Alfonso', 'review': 'Vaya basura de sitio, la comida estaba fría y el postre estaba caducado.', 'rating': 1, 'prediction': '1', 'probability': 0.7688860893249512, 'timestamp': '2022-11-30 18:57:41.189790'}\n",
      "{'name': 'Javier', 'review': 'Ha sido una experiencia increíble y lo recomiendo.', 'rating': 5, 'prediction': '5', 'probability': 0.7993671298027039, 'timestamp': '2022-11-30 18:58:59.122411'}\n",
      "{'message': 'No existe la opinión que estás buscando'}\n",
      "{'name': 'Lourdes', 'review': 'la mejor tortilla de mi vida, me encanta encontrarme un pelo de sorpresa', 'rating': 1, 'prediction': '5', 'probability': 0.9158890843391418, 'timestamp': '2022-11-30 19:01:27.818372'}\n",
      "{'name': 'Aaaa', 'review': 'The shrimp didnt taste good', 'rating': 2, 'prediction': '2', 'probability': 0.4465327858924866, 'timestamp': '2022-11-30 19:02:37.856974'}\n",
      "{'name': 'Marcello', 'review': 'i tavoli non erano stabili ed e caduto il cibo a terra', 'rating': 2, 'prediction': '1', 'probability': 0.5066792368888855, 'timestamp': '2022-11-30 19:03:45.063975'}\n"
     ]
    },
    {
     "data": {
      "text/html": [
       "<div>\n",
       "<style scoped>\n",
       "    .dataframe tbody tr th:only-of-type {\n",
       "        vertical-align: middle;\n",
       "    }\n",
       "\n",
       "    .dataframe tbody tr th {\n",
       "        vertical-align: top;\n",
       "    }\n",
       "\n",
       "    .dataframe thead th {\n",
       "        text-align: right;\n",
       "    }\n",
       "</style>\n",
       "<table border=\"1\" class=\"dataframe\">\n",
       "  <thead>\n",
       "    <tr style=\"text-align: right;\">\n",
       "      <th></th>\n",
       "      <th>name</th>\n",
       "      <th>review</th>\n",
       "      <th>rating</th>\n",
       "      <th>prediction</th>\n",
       "      <th>probability</th>\n",
       "      <th>timestamp</th>\n",
       "    </tr>\n",
       "    <tr>\n",
       "      <th>id</th>\n",
       "      <th></th>\n",
       "      <th></th>\n",
       "      <th></th>\n",
       "      <th></th>\n",
       "      <th></th>\n",
       "      <th></th>\n",
       "    </tr>\n",
       "  </thead>\n",
       "  <tbody>\n",
       "    <tr>\n",
       "      <th>1</th>\n",
       "      <td>Carlos</td>\n",
       "      <td>El sitio es maravilloso</td>\n",
       "      <td>None</td>\n",
       "      <td>5</td>\n",
       "      <td>0.830753</td>\n",
       "      <td>2022-11-30 18:53:33.907775</td>\n",
       "    </tr>\n",
       "    <tr>\n",
       "      <th>2</th>\n",
       "      <td>Alfonso</td>\n",
       "      <td>Vaya basura de sitio, la comida estaba fría y ...</td>\n",
       "      <td>1</td>\n",
       "      <td>1</td>\n",
       "      <td>0.768886</td>\n",
       "      <td>2022-11-30 18:57:41.189790</td>\n",
       "    </tr>\n",
       "    <tr>\n",
       "      <th>3</th>\n",
       "      <td>Javier</td>\n",
       "      <td>Ha sido una experiencia increíble y lo recomie...</td>\n",
       "      <td>5</td>\n",
       "      <td>5</td>\n",
       "      <td>0.799367</td>\n",
       "      <td>2022-11-30 18:58:59.122411</td>\n",
       "    </tr>\n",
       "    <tr>\n",
       "      <th>4</th>\n",
       "      <td>NaN</td>\n",
       "      <td>NaN</td>\n",
       "      <td>NaN</td>\n",
       "      <td>NaN</td>\n",
       "      <td>NaN</td>\n",
       "      <td>NaN</td>\n",
       "    </tr>\n",
       "    <tr>\n",
       "      <th>5</th>\n",
       "      <td>Lourdes</td>\n",
       "      <td>la mejor tortilla de mi vida, me encanta encon...</td>\n",
       "      <td>1</td>\n",
       "      <td>5</td>\n",
       "      <td>0.915889</td>\n",
       "      <td>2022-11-30 19:01:27.818372</td>\n",
       "    </tr>\n",
       "    <tr>\n",
       "      <th>6</th>\n",
       "      <td>Aaaa</td>\n",
       "      <td>The shrimp didnt taste good</td>\n",
       "      <td>2</td>\n",
       "      <td>2</td>\n",
       "      <td>0.446533</td>\n",
       "      <td>2022-11-30 19:02:37.856974</td>\n",
       "    </tr>\n",
       "    <tr>\n",
       "      <th>7</th>\n",
       "      <td>Marcello</td>\n",
       "      <td>i tavoli non erano stabili ed e caduto il cibo...</td>\n",
       "      <td>2</td>\n",
       "      <td>1</td>\n",
       "      <td>0.506679</td>\n",
       "      <td>2022-11-30 19:03:45.063975</td>\n",
       "    </tr>\n",
       "  </tbody>\n",
       "</table>\n",
       "</div>"
      ],
      "text/plain": [
       "        name                                             review rating  \\\n",
       "id                                                                       \n",
       "1     Carlos                            El sitio es maravilloso   None   \n",
       "2    Alfonso  Vaya basura de sitio, la comida estaba fría y ...      1   \n",
       "3     Javier  Ha sido una experiencia increíble y lo recomie...      5   \n",
       "4        NaN                                                NaN    NaN   \n",
       "5    Lourdes  la mejor tortilla de mi vida, me encanta encon...      1   \n",
       "6       Aaaa                        The shrimp didnt taste good      2   \n",
       "7   Marcello  i tavoli non erano stabili ed e caduto il cibo...      2   \n",
       "\n",
       "   prediction  probability                   timestamp  \n",
       "id                                                      \n",
       "1           5     0.830753  2022-11-30 18:53:33.907775  \n",
       "2           1     0.768886  2022-11-30 18:57:41.189790  \n",
       "3           5     0.799367  2022-11-30 18:58:59.122411  \n",
       "4         NaN          NaN                         NaN  \n",
       "5           5     0.915889  2022-11-30 19:01:27.818372  \n",
       "6           2     0.446533  2022-11-30 19:02:37.856974  \n",
       "7           1     0.506679  2022-11-30 19:03:45.063975  "
      ]
     },
     "execution_count": 9,
     "metadata": {},
     "output_type": "execute_result"
    }
   ],
   "source": [
    "# Vamos a mirar que ha sido guardado\n",
    "reviews = pd.DataFrame()\n",
    "\n",
    "for i in range(1,review_id):\n",
    "    response = requests.get(url + \"sentiment/{}\".format(i))\n",
    "    print(response.json())\n",
    "    reviews = reviews.append(response.json(),ignore_index = True)\n",
    "\n",
    "# Formateo la salida\n",
    "reviews[\"id\"] = [x+1 for x in reviews.index]\n",
    "reviews.set_index(\"id\",inplace = True)\n",
    "\n",
    "reviews[[\"name\", \"review\", \"rating\", \"prediction\", \"probability\",\"timestamp\"]]"
   ]
  },
  {
   "cell_type": "code",
   "execution_count": 11,
   "metadata": {},
   "outputs": [],
   "source": [
    "response = requests.delete(url + \"sentiment/3\")"
   ]
  },
  {
   "cell_type": "code",
   "execution_count": 14,
   "metadata": {},
   "outputs": [
    {
     "data": {
      "text/plain": [
       "{'message': 'No existe la opinión que estás buscando'}"
      ]
     },
     "execution_count": 14,
     "metadata": {},
     "output_type": "execute_result"
    }
   ],
   "source": [
    "response = requests.get(url + \"sentiment/1\")\n",
    "response.json()"
   ]
  },
  {
   "cell_type": "code",
   "execution_count": null,
   "metadata": {},
   "outputs": [],
   "source": []
  }
 ],
 "metadata": {
  "kernelspec": {
   "display_name": "Python 3 (ipykernel)",
   "language": "python",
   "name": "python3"
  },
  "language_info": {
   "codemirror_mode": {
    "name": "ipython",
    "version": 3
   },
   "file_extension": ".py",
   "mimetype": "text/x-python",
   "name": "python",
   "nbconvert_exporter": "python",
   "pygments_lexer": "ipython3",
   "version": "3.9.7"
  }
 },
 "nbformat": 4,
 "nbformat_minor": 4
}
