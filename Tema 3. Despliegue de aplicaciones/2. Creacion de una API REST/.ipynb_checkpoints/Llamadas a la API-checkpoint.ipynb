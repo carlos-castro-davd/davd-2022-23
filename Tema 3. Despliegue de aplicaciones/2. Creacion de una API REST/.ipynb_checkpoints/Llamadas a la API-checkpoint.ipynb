{
 "cells": [
  {
   "cell_type": "code",
   "execution_count": 1,
   "metadata": {},
   "outputs": [],
   "source": [
    "import requests\n",
    "import pandas as pd"
   ]
  },
  {
   "cell_type": "code",
   "execution_count": 2,
   "metadata": {},
   "outputs": [],
   "source": [
    "url = \"http://127.0.0.1:5000/\"\n",
    "review_id = 1"
   ]
  },
  {
   "cell_type": "code",
   "execution_count": 4,
   "metadata": {},
   "outputs": [
    {
     "name": "stdout",
     "output_type": "stream",
     "text": [
      "¿Cómo te llamas? Macarena\n",
      "¿Cuál ha sido tu opinión del restaurante? Los entrantes eran increíbles\n",
      "Valora de 1 a 5 tu experiencia en el restaurante 4\n"
     ]
    }
   ],
   "source": [
    "# Lo primero que haremos será añadir reviews\n",
    "name = input(\"¿Cómo te llamas? \")\n",
    "review = input(\"¿Cuál ha sido tu opinión del restaurante? \")\n",
    "valoracion = input(\"Valora de 1 a 5 tu experiencia en el restaurante \")\n",
    "\n",
    "response = requests.put(url + \"sentiment/{}\".format(review_id), {\"name\": name, \"review\": review, \"rating\": valoracion})\n",
    "\n",
    "review_id += 1"
   ]
  },
  {
   "cell_type": "code",
   "execution_count": 5,
   "metadata": {},
   "outputs": [
    {
     "data": {
      "text/html": [
       "<div>\n",
       "<style scoped>\n",
       "    .dataframe tbody tr th:only-of-type {\n",
       "        vertical-align: middle;\n",
       "    }\n",
       "\n",
       "    .dataframe tbody tr th {\n",
       "        vertical-align: top;\n",
       "    }\n",
       "\n",
       "    .dataframe thead th {\n",
       "        text-align: right;\n",
       "    }\n",
       "</style>\n",
       "<table border=\"1\" class=\"dataframe\">\n",
       "  <thead>\n",
       "    <tr style=\"text-align: right;\">\n",
       "      <th></th>\n",
       "      <th>name</th>\n",
       "      <th>review</th>\n",
       "      <th>rating</th>\n",
       "      <th>prediction</th>\n",
       "      <th>probability</th>\n",
       "      <th>timestamp</th>\n",
       "    </tr>\n",
       "    <tr>\n",
       "      <th>id</th>\n",
       "      <th></th>\n",
       "      <th></th>\n",
       "      <th></th>\n",
       "      <th></th>\n",
       "      <th></th>\n",
       "      <th></th>\n",
       "    </tr>\n",
       "  </thead>\n",
       "  <tbody>\n",
       "    <tr>\n",
       "      <th>1</th>\n",
       "      <td>Antonio</td>\n",
       "      <td>No me gustó demasiado el pescado</td>\n",
       "      <td>2.0</td>\n",
       "      <td>2</td>\n",
       "      <td>0.555689</td>\n",
       "      <td>2022-11-30 07:27:19.043443</td>\n",
       "    </tr>\n",
       "    <tr>\n",
       "      <th>2</th>\n",
       "      <td>Macarena</td>\n",
       "      <td>Los entrantes eran increíbles</td>\n",
       "      <td>4.0</td>\n",
       "      <td>5</td>\n",
       "      <td>0.355155</td>\n",
       "      <td>2022-11-30 07:27:54.719697</td>\n",
       "    </tr>\n",
       "  </tbody>\n",
       "</table>\n",
       "</div>"
      ],
      "text/plain": [
       "        name                            review  rating prediction  \\\n",
       "id                                                                  \n",
       "1    Antonio  No me gustó demasiado el pescado     2.0          2   \n",
       "2   Macarena     Los entrantes eran increíbles     4.0          5   \n",
       "\n",
       "    probability                   timestamp  \n",
       "id                                           \n",
       "1      0.555689  2022-11-30 07:27:19.043443  \n",
       "2      0.355155  2022-11-30 07:27:54.719697  "
      ]
     },
     "execution_count": 5,
     "metadata": {},
     "output_type": "execute_result"
    }
   ],
   "source": [
    "# Vamos a mirar que ha sido guardado\n",
    "reviews = pd.DataFrame()\n",
    "\n",
    "for i in range(1,review_id):\n",
    "    response = requests.get(url + \"sentiment/{}\".format(i))\n",
    "    reviews = reviews.append(response.json(),ignore_index = True)\n",
    "\n",
    "# Formateo la salida\n",
    "reviews[\"id\"] = [x+1 for x in reviews.index]\n",
    "reviews.set_index(\"id\",inplace = True)\n",
    "\n",
    "reviews[[\"name\", \"review\", \"rating\", \"prediction\", \"probability\",\"timestamp\"]]"
   ]
  },
  {
   "cell_type": "code",
   "execution_count": null,
   "metadata": {},
   "outputs": [],
   "source": []
  }
 ],
 "metadata": {
  "kernelspec": {
   "display_name": "Python 3 (ipykernel)",
   "language": "python",
   "name": "python3"
  },
  "language_info": {
   "codemirror_mode": {
    "name": "ipython",
    "version": 3
   },
   "file_extension": ".py",
   "mimetype": "text/x-python",
   "name": "python",
   "nbconvert_exporter": "python",
   "pygments_lexer": "ipython3",
   "version": "3.9.7"
  }
 },
 "nbformat": 4,
 "nbformat_minor": 4
}
