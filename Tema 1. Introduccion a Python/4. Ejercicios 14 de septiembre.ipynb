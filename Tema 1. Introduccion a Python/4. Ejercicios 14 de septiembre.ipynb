{
 "cells": [
  {
   "cell_type": "markdown",
   "metadata": {},
   "source": [
    "# Ejercicios propuestos"
   ]
  },
  {
   "cell_type": "code",
   "execution_count": 1,
   "metadata": {},
   "outputs": [],
   "source": [
    "import datetime\n",
    "import numpy as np"
   ]
  },
  {
   "cell_type": "markdown",
   "metadata": {},
   "source": [
    "### Ejercicio 1: Crea una lista con las fechas y horas de clase desde hoy (13 de septiembre) hasta la última clase (7 de diciembre), ten en cuenta que los festivos no serán horas de clase.  "
   ]
  },
  {
   "cell_type": "code",
   "execution_count": 2,
   "metadata": {},
   "outputs": [
    {
     "data": {
      "text/plain": [
       "[datetime.datetime(2022, 9, 14, 18, 0),\n",
       " datetime.datetime(2022, 9, 21, 18, 0),\n",
       " datetime.datetime(2022, 9, 28, 18, 0),\n",
       " datetime.datetime(2022, 10, 5, 18, 0),\n",
       " datetime.datetime(2022, 10, 19, 18, 0),\n",
       " datetime.datetime(2022, 10, 26, 18, 0),\n",
       " datetime.datetime(2022, 11, 2, 18, 0),\n",
       " datetime.datetime(2022, 11, 16, 18, 0),\n",
       " datetime.datetime(2022, 11, 23, 18, 0),\n",
       " datetime.datetime(2022, 11, 30, 18, 0),\n",
       " datetime.datetime(2022, 12, 7, 18, 0)]"
      ]
     },
     "execution_count": 2,
     "metadata": {},
     "output_type": "execute_result"
    }
   ],
   "source": [
    "hoy=datetime.datetime(2022,9,14,18)\n",
    "ult=datetime.datetime(2022,12,7,18)\n",
    "#diferencia=(ult-hoy).days/7\n",
    "lista=[hoy]\n",
    "while (lista[-1]<ult): \n",
    "    hoy+=datetime.timedelta(days=7)\n",
    "    if (hoy == datetime.datetime(2022,10,12,18)) | (hoy == datetime.datetime(2022,11,9,18)):\n",
    "        continue\n",
    "    lista.append(hoy)\n",
    "    \n",
    "lista"
   ]
  },
  {
   "cell_type": "markdown",
   "metadata": {},
   "source": [
    "### Ejercicio 2: Crea una función para efectuar el producto real de dos matrices"
   ]
  },
  {
   "cell_type": "code",
   "execution_count": 3,
   "metadata": {},
   "outputs": [
    {
     "data": {
      "text/plain": [
       "[[17, 21, 22], [30, 38, 36]]"
      ]
     },
     "execution_count": 3,
     "metadata": {},
     "output_type": "execute_result"
    }
   ],
   "source": [
    "# Solución propuesta por Álvaro Guerrero\n",
    "\n",
    "def realProduct(A, B):\n",
    "\n",
    "    # \"Función que ejecuta el producto real entre dos matrices A y B\"\n",
    "\n",
    "    if len(A[0])!=len(B):\n",
    "\n",
    "        raise Exception(\"Las dimensiones de las matrices no coinciden.\")\n",
    "\n",
    "    C = []\n",
    "\n",
    "    for i in range(len(A)):\n",
    "\n",
    "        row = []\n",
    "\n",
    "        for j in range(len(B[0])):\n",
    "\n",
    "            row.append(0)\n",
    "\n",
    "        C.append(row)\n",
    "\n",
    "    for i in range(len(A)):\n",
    "\n",
    "        for j in range(len(B[0])):\n",
    "\n",
    "            for k in range(len(B)):\n",
    "\n",
    "                C[i][j] += A[i][k] * B[k][j]\n",
    "\n",
    "    return C\n",
    "\n",
    " \n",
    "\n",
    "# Prueba de la función\n",
    "\n",
    "a =[[1,2,3,2],[1,3,4,5]]\n",
    "\n",
    "b =[[1,2,5],[2,4,4],[2,1,1],[3,4,3]]\n",
    "\n",
    "realProduct(a, b)"
   ]
  },
  {
   "cell_type": "markdown",
   "metadata": {},
   "source": [
    "### Ejercicio 3: Define una clase de números complejos cuyos métodos sean, al menos, el modulo y el argumento."
   ]
  },
  {
   "cell_type": "code",
   "execution_count": 4,
   "metadata": {},
   "outputs": [],
   "source": [
    "class numeroComplejo():\n",
    "    \n",
    "    def __init__(self,a,b):\n",
    "        self.real=a\n",
    "        self.imaginaria=b\n",
    "        \n",
    "    def modulo(self):\n",
    "        modulo=(self.real**2 + self.imaginaria**2)**0.5\n",
    "        return modulo\n",
    "    \n",
    "    def argumento(self):\n",
    "        argumento=np.arctan(self.imaginaria/self.real)\n",
    "        return argumento\n",
    "        \n",
    "    \n",
    "    "
   ]
  },
  {
   "cell_type": "code",
   "execution_count": 5,
   "metadata": {},
   "outputs": [],
   "source": [
    "num = numeroComplejo(0.5,np.sqrt(3)/2)"
   ]
  },
  {
   "cell_type": "code",
   "execution_count": 6,
   "metadata": {},
   "outputs": [
    {
     "data": {
      "text/plain": [
       "1.0"
      ]
     },
     "execution_count": 6,
     "metadata": {},
     "output_type": "execute_result"
    }
   ],
   "source": [
    "num.modulo()"
   ]
  },
  {
   "cell_type": "code",
   "execution_count": 7,
   "metadata": {},
   "outputs": [
    {
     "data": {
      "text/plain": [
       "1.0471975511965976"
      ]
     },
     "execution_count": 7,
     "metadata": {},
     "output_type": "execute_result"
    }
   ],
   "source": [
    "num.argumento()"
   ]
  },
  {
   "cell_type": "markdown",
   "metadata": {},
   "source": [
    "### Ejercicio 4: Define en funciones, usando la clase anterior, las operaciones básicas entre números complejos (sumar, restar, multiplicar y dividir). Puede ser conveniente añadir algún método al ejercicio anterior"
   ]
  },
  {
   "cell_type": "code",
   "execution_count": 9,
   "metadata": {},
   "outputs": [],
   "source": [
    "z1 = numeroComplejo(1,2)\n",
    "z2 = numeroComplejo(3,4)"
   ]
  },
  {
   "cell_type": "code",
   "execution_count": 8,
   "metadata": {},
   "outputs": [],
   "source": [
    "def sumacompleja(z1,z2):\n",
    "    \n",
    "    \"\"\"\n",
    "    Suma de dos numeros complejos\n",
    "    \n",
    "    Parametros:\n",
    "    \n",
    "    z1: numeroComplejo\n",
    "    \n",
    "    z2: numeroComplejo\n",
    "    \n",
    "    Salida:\n",
    "    \n",
    "    z : numeroComplejo\n",
    "    \"\"\"\n",
    "    \n",
    "    z = numeroComplejo(z1.real + z2.real, z1.imaginaria + z2.imaginaria)\n",
    "    \n",
    "    return z"
   ]
  },
  {
   "cell_type": "code",
   "execution_count": 12,
   "metadata": {},
   "outputs": [
    {
     "name": "stdout",
     "output_type": "stream",
     "text": [
      "La parte real de este numero es : 4\n",
      "La parte imaginaria de este numero es : 6\n"
     ]
    }
   ],
   "source": [
    "z = sumacompleja(z1,z2)\n",
    "print(f\"La parte real de este numero es : {z.real}\")\n",
    "print(f\"La parte imaginaria de este numero es : {z.imaginaria}\")"
   ]
  },
  {
   "cell_type": "code",
   "execution_count": 15,
   "metadata": {},
   "outputs": [],
   "source": [
    "def restacompleja(z1,z2):\n",
    "    \n",
    "    \"\"\"\n",
    "    Resta de dos numeros complejos\n",
    "    \n",
    "    Parametros:\n",
    "    \n",
    "    z1: numeroComplejo\n",
    "    \n",
    "    z2: numeroComplejo\n",
    "    \n",
    "    Salida:\n",
    "    \n",
    "    z : numeroComplejo\n",
    "    \"\"\"\n",
    "        \n",
    "    z = numeroComplejo(z1.real - z2.real, z1.imaginaria - z2.imaginaria)\n",
    "    \n",
    "    return z      \n",
    "        "
   ]
  },
  {
   "cell_type": "code",
   "execution_count": 16,
   "metadata": {},
   "outputs": [
    {
     "name": "stdout",
     "output_type": "stream",
     "text": [
      "La parte real de este numero es : -2\n",
      "La parte imaginaria de este numero es : -2\n"
     ]
    }
   ],
   "source": [
    "z = restacompleja(z1,z2)\n",
    "print(f\"La parte real de este numero es : {z.real}\")\n",
    "print(f\"La parte imaginaria de este numero es : {z.imaginaria}\")"
   ]
  },
  {
   "cell_type": "code",
   "execution_count": 17,
   "metadata": {},
   "outputs": [],
   "source": [
    "def multiplicacioncompleja(z1,z2):\n",
    "    \n",
    "    \"\"\"\n",
    "    Multiplicacion de dos numeros complejos\n",
    "    \n",
    "    Parametros:\n",
    "    \n",
    "    z1: numeroComplejo\n",
    "    \n",
    "    z2: numeroComplejo\n",
    "    \n",
    "    Salida:\n",
    "    \n",
    "    z : numeroComplejo\n",
    "    \"\"\"\n",
    "    real = (z1.real * z2.real) - (z1.imaginaria * z2.imaginaria)\n",
    "    imaginario = (z1.real * z2.imaginaria) + (z2.real * z1.imaginaria)\n",
    "    \n",
    "    z = numeroComplejo(real, imaginario)\n",
    "    \n",
    "    return z"
   ]
  },
  {
   "cell_type": "code",
   "execution_count": 18,
   "metadata": {},
   "outputs": [
    {
     "name": "stdout",
     "output_type": "stream",
     "text": [
      "La parte real de este numero es : -5\n",
      "La parte imaginaria de este numero es : 10\n"
     ]
    }
   ],
   "source": [
    "z = multiplicacioncompleja(z1,z2)\n",
    "print(f\"La parte real de este numero es : {z.real}\")\n",
    "print(f\"La parte imaginaria de este numero es : {z.imaginaria}\")"
   ]
  },
  {
   "cell_type": "code",
   "execution_count": 21,
   "metadata": {},
   "outputs": [],
   "source": [
    "def divisioncompleja(z1,z2):\n",
    "    \n",
    "    \"\"\"\n",
    "    Division de dos numeros complejos\n",
    "    \n",
    "    Parametros:\n",
    "    \n",
    "    z1: numeroComplejo\n",
    "    \n",
    "    z2: numeroComplejo\n",
    "    \n",
    "    Salida:\n",
    "    \n",
    "    division : numeroComplejo\n",
    "    \"\"\"\n",
    "    z2_conjugado = numeroComplejo(z2.real,-z2.imaginaria)\n",
    "    \n",
    "    \n",
    "    \n",
    "    numerador = multiplicacioncompleja(z1, z2_conjugado)\n",
    "    denominador = z2.modulo()**2\n",
    "    \n",
    "    division= numeroComplejo(numerador.real/denominador, numerador.imaginaria/denominador)\n",
    "    \n",
    "    return division\n",
    "    "
   ]
  },
  {
   "cell_type": "code",
   "execution_count": 23,
   "metadata": {},
   "outputs": [
    {
     "name": "stdout",
     "output_type": "stream",
     "text": [
      "La parte real de este numero es : 0.44\n",
      "La parte imaginaria de este numero es : 0.08\n"
     ]
    }
   ],
   "source": [
    "z = divisioncompleja(z1,z2)\n",
    "print(f\"La parte real de este numero es : {z.real}\")\n",
    "print(f\"La parte imaginaria de este numero es : {z.imaginaria}\")"
   ]
  },
  {
   "cell_type": "code",
   "execution_count": null,
   "metadata": {},
   "outputs": [],
   "source": []
  }
 ],
 "metadata": {
  "kernelspec": {
   "display_name": "Python 3 (ipykernel)",
   "language": "python",
   "name": "python3"
  },
  "language_info": {
   "codemirror_mode": {
    "name": "ipython",
    "version": 3
   },
   "file_extension": ".py",
   "mimetype": "text/x-python",
   "name": "python",
   "nbconvert_exporter": "python",
   "pygments_lexer": "ipython3",
   "version": "3.9.7"
  }
 },
 "nbformat": 4,
 "nbformat_minor": 4
}
