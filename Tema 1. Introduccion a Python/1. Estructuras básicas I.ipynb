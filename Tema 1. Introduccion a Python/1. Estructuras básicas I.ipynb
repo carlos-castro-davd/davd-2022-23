{
 "cells": [
  {
   "cell_type": "markdown",
   "metadata": {},
   "source": [
    "# Estructuras básicas de programación en Python"
   ]
  },
  {
   "cell_type": "markdown",
   "metadata": {},
   "source": [
    "Python es un lenguaje de programación orientado a objetos, en esta introducción comenzaremos viendo las estructuras más simples e iremos construyendo objetos más complejos a medida que avancemos."
   ]
  },
  {
   "cell_type": "markdown",
   "metadata": {},
   "source": [
    "## Tipos de datos"
   ]
  },
  {
   "cell_type": "markdown",
   "metadata": {},
   "source": [
    "Los tipos de datos más frecuentes son los siguientes:\n",
    "* int :  Número entero. Ejemplo : 2\n",
    "* float : Número de punto flotante (decimal). Ejemplo: 3.587\n",
    "* str : Cadena de caracteres. Ejemplo: 'Esto es una cadena'\n",
    "* bool : Booleanos. {True,False}\n",
    "\n",
    "Nota: No es lo mismo 2, 2.0 y '2'"
   ]
  },
  {
   "cell_type": "code",
   "execution_count": 2,
   "metadata": {},
   "outputs": [
    {
     "name": "stdout",
     "output_type": "stream",
     "text": [
      "<class 'int'>\n",
      "<class 'float'>\n",
      "<class 'str'>\n"
     ]
    }
   ],
   "source": [
    "print(type(2))\n",
    "print(type(2.0))\n",
    "print(type('2'))"
   ]
  },
  {
   "cell_type": "markdown",
   "metadata": {},
   "source": [
    "### Conversiones entre tipos de datos"
   ]
  },
  {
   "cell_type": "markdown",
   "metadata": {},
   "source": [
    "A menudo será necesario cambiar de tipos de datos según lo que nuestro problema nos pida, en algunas ocasiones este cambio puede ser realizado y más adelante veremos cómo es posible cambiar de tipo columnas enteras de un conjunto de datos. Mientras tanto, si solo buscamos cambiar un elemento es posible realizarlo a partir de las siguientes funciones:"
   ]
  },
  {
   "cell_type": "code",
   "execution_count": 3,
   "metadata": {},
   "outputs": [
    {
     "data": {
      "text/plain": [
       "2.0"
      ]
     },
     "execution_count": 3,
     "metadata": {},
     "output_type": "execute_result"
    }
   ],
   "source": [
    "# Cambio de un entero a un número de punto flotante\n",
    "float(2)"
   ]
  },
  {
   "cell_type": "code",
   "execution_count": 5,
   "metadata": {},
   "outputs": [
    {
     "data": {
      "text/plain": [
       "-3"
      ]
     },
     "execution_count": 5,
     "metadata": {},
     "output_type": "execute_result"
    }
   ],
   "source": [
    "# Cambio de un número de punto flotante a un número entero\n",
    "int(-3.45)"
   ]
  },
  {
   "cell_type": "markdown",
   "metadata": {},
   "source": [
    "El cambio de un número de punto flotante a un entero consiste en excluir todo aquello que va después de la coma decimal."
   ]
  },
  {
   "cell_type": "code",
   "execution_count": 6,
   "metadata": {},
   "outputs": [
    {
     "data": {
      "text/plain": [
       "2"
      ]
     },
     "execution_count": 6,
     "metadata": {},
     "output_type": "execute_result"
    }
   ],
   "source": [
    "# Cambiar un string por un entero\n",
    "int('2')"
   ]
  },
  {
   "cell_type": "markdown",
   "metadata": {},
   "source": [
    "Este cambio solo es posible siempre y cuando la cadena pueda indicar explícitamente un número entero"
   ]
  },
  {
   "cell_type": "code",
   "execution_count": 8,
   "metadata": {},
   "outputs": [
    {
     "ename": "ValueError",
     "evalue": "invalid literal for int() with base 10: '7.16'",
     "output_type": "error",
     "traceback": [
      "\u001b[1;31m---------------------------------------------------------------------------\u001b[0m",
      "\u001b[1;31mValueError\u001b[0m                                Traceback (most recent call last)",
      "\u001b[1;32m<ipython-input-8-7053f60d7cd9>\u001b[0m in \u001b[0;36m<module>\u001b[1;34m\u001b[0m\n\u001b[1;32m----> 1\u001b[1;33m \u001b[0mint\u001b[0m\u001b[1;33m(\u001b[0m\u001b[1;34m'7.16'\u001b[0m\u001b[1;33m)\u001b[0m\u001b[1;33m\u001b[0m\u001b[1;33m\u001b[0m\u001b[0m\n\u001b[0m",
      "\u001b[1;31mValueError\u001b[0m: invalid literal for int() with base 10: '7.16'"
     ]
    }
   ],
   "source": [
    "int('7.16')"
   ]
  },
  {
   "cell_type": "code",
   "execution_count": 9,
   "metadata": {},
   "outputs": [
    {
     "ename": "ValueError",
     "evalue": "invalid literal for int() with base 10: 'Cadena'",
     "output_type": "error",
     "traceback": [
      "\u001b[1;31m---------------------------------------------------------------------------\u001b[0m",
      "\u001b[1;31mValueError\u001b[0m                                Traceback (most recent call last)",
      "\u001b[1;32m<ipython-input-9-8261a97b2f2b>\u001b[0m in \u001b[0;36m<module>\u001b[1;34m\u001b[0m\n\u001b[1;32m----> 1\u001b[1;33m \u001b[0mint\u001b[0m\u001b[1;33m(\u001b[0m\u001b[1;34m'Cadena'\u001b[0m\u001b[1;33m)\u001b[0m\u001b[1;33m\u001b[0m\u001b[1;33m\u001b[0m\u001b[0m\n\u001b[0m",
      "\u001b[1;31mValueError\u001b[0m: invalid literal for int() with base 10: 'Cadena'"
     ]
    }
   ],
   "source": [
    "int('Cadena')"
   ]
  },
  {
   "cell_type": "code",
   "execution_count": 11,
   "metadata": {},
   "outputs": [
    {
     "data": {
      "text/plain": [
       "6.356"
      ]
     },
     "execution_count": 11,
     "metadata": {},
     "output_type": "execute_result"
    }
   ],
   "source": [
    "# Cambiar un string por un número de punto flotante\n",
    "float('6.356')"
   ]
  },
  {
   "cell_type": "markdown",
   "metadata": {},
   "source": [
    "De igual forma, si la cadena no es un número obtenemos el siguiente mensaje de error"
   ]
  },
  {
   "cell_type": "code",
   "execution_count": 12,
   "metadata": {},
   "outputs": [
    {
     "ename": "ValueError",
     "evalue": "could not convert string to float: 'Cadena'",
     "output_type": "error",
     "traceback": [
      "\u001b[1;31m---------------------------------------------------------------------------\u001b[0m",
      "\u001b[1;31mValueError\u001b[0m                                Traceback (most recent call last)",
      "\u001b[1;32m<ipython-input-12-0dee43a92120>\u001b[0m in \u001b[0;36m<module>\u001b[1;34m\u001b[0m\n\u001b[1;32m----> 1\u001b[1;33m \u001b[0mfloat\u001b[0m\u001b[1;33m(\u001b[0m\u001b[1;34m'Cadena'\u001b[0m\u001b[1;33m)\u001b[0m\u001b[1;33m\u001b[0m\u001b[1;33m\u001b[0m\u001b[0m\n\u001b[0m",
      "\u001b[1;31mValueError\u001b[0m: could not convert string to float: 'Cadena'"
     ]
    }
   ],
   "source": [
    "float('Cadena')"
   ]
  },
  {
   "cell_type": "markdown",
   "metadata": {},
   "source": [
    "Cualquier tipo de dato de los anteriores se puede cambiar a cadena de caracteres"
   ]
  },
  {
   "cell_type": "code",
   "execution_count": 13,
   "metadata": {},
   "outputs": [
    {
     "data": {
      "text/plain": [
       "'2'"
      ]
     },
     "execution_count": 13,
     "metadata": {},
     "output_type": "execute_result"
    }
   ],
   "source": [
    "str(2)"
   ]
  },
  {
   "cell_type": "code",
   "execution_count": 14,
   "metadata": {},
   "outputs": [
    {
     "data": {
      "text/plain": [
       "'9.567'"
      ]
     },
     "execution_count": 14,
     "metadata": {},
     "output_type": "execute_result"
    }
   ],
   "source": [
    "str(9.567)"
   ]
  },
  {
   "cell_type": "markdown",
   "metadata": {},
   "source": [
    "Los booleanos pueden ser representados como números enteros siendo True = 1 y False = 0"
   ]
  },
  {
   "cell_type": "code",
   "execution_count": 16,
   "metadata": {},
   "outputs": [
    {
     "data": {
      "text/plain": [
       "1"
      ]
     },
     "execution_count": 16,
     "metadata": {},
     "output_type": "execute_result"
    }
   ],
   "source": [
    "int(True)"
   ]
  },
  {
   "cell_type": "code",
   "execution_count": 17,
   "metadata": {},
   "outputs": [
    {
     "data": {
      "text/plain": [
       "0"
      ]
     },
     "execution_count": 17,
     "metadata": {},
     "output_type": "execute_result"
    }
   ],
   "source": [
    "int(False)"
   ]
  },
  {
   "cell_type": "code",
   "execution_count": 18,
   "metadata": {},
   "outputs": [
    {
     "data": {
      "text/plain": [
       "1.0"
      ]
     },
     "execution_count": 18,
     "metadata": {},
     "output_type": "execute_result"
    }
   ],
   "source": [
    "float(True)"
   ]
  },
  {
   "cell_type": "code",
   "execution_count": 19,
   "metadata": {},
   "outputs": [
    {
     "data": {
      "text/plain": [
       "0.0"
      ]
     },
     "execution_count": 19,
     "metadata": {},
     "output_type": "execute_result"
    }
   ],
   "source": [
    "float(False)"
   ]
  },
  {
   "cell_type": "markdown",
   "metadata": {},
   "source": [
    "## Importación de librerías y operaciones con tipos de datos"
   ]
  },
  {
   "cell_type": "markdown",
   "metadata": {},
   "source": [
    "Lo primero que vamos a hacer en esta sección es importar una de las librerías más importantes de Python, NumPy. Aquí os dejo el enlace a la documentación del proyecto: \n",
    "\n",
    "Al importar librerías, es bastante frecuente que se denoten de una manera determinada por convenio. Aquí os dejo algunos de los convenios más frecuentes y que usaremos en el curso:\n",
    "\n",
    "* import pandas as pd\n",
    "* import numpy as np\n",
    "* import matplotlib.pyplot as plt\n",
    "* import seaborn as sns\n",
    "* import plotly.graph_objects as go"
   ]
  },
  {
   "cell_type": "code",
   "execution_count": 21,
   "metadata": {},
   "outputs": [],
   "source": [
    "import numpy as np"
   ]
  },
  {
   "cell_type": "markdown",
   "metadata": {},
   "source": [
    "### Operaciones aritméticas"
   ]
  },
  {
   "cell_type": "markdown",
   "metadata": {},
   "source": [
    "En la medida de lo posible debemos intentar realizar operaciones con tipos de números iguales aunque es posible hacer operaciones entre enteros y números de punto flotante, dando como resultado un número de punto flotante."
   ]
  },
  {
   "cell_type": "code",
   "execution_count": 25,
   "metadata": {},
   "outputs": [
    {
     "name": "stdout",
     "output_type": "stream",
     "text": [
      "El valor de la suma es 13\n",
      "El tipo de dato de la suma es <class 'int'>\n"
     ]
    }
   ],
   "source": [
    "# La operación entre enteros da lugar a otro entero\n",
    "suma = 5+8\n",
    "print(f'El valor de la suma es {suma}')\n",
    "print(f'El tipo de dato de la suma es {type(suma)}')"
   ]
  },
  {
   "cell_type": "code",
   "execution_count": 29,
   "metadata": {},
   "outputs": [
    {
     "name": "stdout",
     "output_type": "stream",
     "text": [
      "El valor de la resta es -1.3824999999999998\n",
      "El tipo de dato de la resta es <class 'float'>\n"
     ]
    }
   ],
   "source": [
    "# La operación entre números de punto flotante da lugar a un número de punto flotante\n",
    "resta = 1.9085 - 3.291\n",
    "print(f'El valor de la resta es {resta}')\n",
    "print(f'El tipo de dato de la resta es {type(resta)}')"
   ]
  },
  {
   "cell_type": "code",
   "execution_count": 33,
   "metadata": {},
   "outputs": [
    {
     "name": "stdout",
     "output_type": "stream",
     "text": [
      "El valor de la multiplicación es 10.0\n",
      "El tipo de dato de la multiplicación es <class 'float'>\n"
     ]
    }
   ],
   "source": [
    "# La operación entre un número de punto flotante y un número entero es un número de punto flotante,\n",
    "# aunque el resultado pueda ser un número entero\n",
    "multiplicacion = 4 * 2.5 \n",
    "print(f'El valor de la multiplicación es {multiplicacion}')\n",
    "print(f'El tipo de dato de la multiplicación es {type(multiplicacion)}')"
   ]
  },
  {
   "cell_type": "code",
   "execution_count": null,
   "metadata": {},
   "outputs": [],
   "source": [
    "# ¿Qué tendría que hacer para pasar a entero la operación anterior?\n",
    "int(multiplicacion)"
   ]
  },
  {
   "cell_type": "code",
   "execution_count": 34,
   "metadata": {},
   "outputs": [
    {
     "name": "stdout",
     "output_type": "stream",
     "text": [
      "El valor de la division es 1.3770217512548801\n",
      "El valor de la potencia es 81\n"
     ]
    }
   ],
   "source": [
    "# Para dividir tendríamos la siguiente operación\n",
    "division = 12.345/8.965\n",
    "print(f'El valor de la division es {division}')\n",
    "\n",
    "# Para elevar un número a una potencia se utiliza el operador ** (dos símbolos de multiplicar consecutivos)\n",
    "\n",
    "potencia = 3**4\n",
    "print(f'El valor de la potencia es {potencia}')"
   ]
  },
  {
   "cell_type": "markdown",
   "metadata": {},
   "source": [
    "### Funciones básicas para operar con números"
   ]
  },
  {
   "cell_type": "code",
   "execution_count": 48,
   "metadata": {},
   "outputs": [
    {
     "name": "stdout",
     "output_type": "stream",
     "text": [
      "El resultado de redondear el número anterior a la primera cifra decimal es: 6.4\n",
      "El resultado de redondear el número anterior a la segunda cifra decimal es: 6.37\n",
      "\n",
      "El resultado de la raiz cuadrada del número anterior es:\n",
      "\n",
      "El logarítmo natural del número anterior es: 1.8519133920478021\n",
      "El número e se consigue llamando a la función np.exp(1): 2.718281828459045\n",
      "El resultado de elevar el número e a la potencia del número anterior es: 585.2271134438683\n",
      "\n",
      "Representación del número pi en numpy: 3.141592653589793\n",
      "Función seno (np.sin(número que queramos evaluar)): 1.2246467991473532e-16\n",
      "Función coseno (np.cos(número que queramos evaluar)): -1.0\n"
     ]
    }
   ],
   "source": [
    "# Redondear un número\n",
    "numero = 6.372\n",
    "\n",
    "print('El resultado de redondear el número anterior a la primera cifra decimal es: {}'.format(round(numero,1))) # round(numero, cifras decimales a las que quiero redondear)\n",
    "print('El resultado de redondear el número anterior a la segunda cifra decimal es: {}'.format(round(numero,2)))\n",
    "print('')\n",
    "\n",
    "# Calcular la raiz cuadrada de un número\n",
    "raiz_numero = np.sqrt(numero)\n",
    "print('El resultado de la raiz cuadrada del número anterior es:'.format({raiz_numero}))\n",
    "print('')\n",
    "\n",
    "# Logaritmo natural\n",
    "log_numero = np.log(numero)\n",
    "print(f'El logarítmo natural del número anterior es: {log_numero}')\n",
    "\n",
    "# Constante Exponencial\n",
    "e = np.exp(1)\n",
    "print(f\"El número e se consigue llamando a la función np.exp(1): {e}\")\n",
    "\n",
    "# Si queremos hacer la operación e^(número) entonces:\n",
    "exp_numero = np.exp(numero)\n",
    "print(f'El resultado de elevar el número e a la potencia del número anterior es: {exp_numero}')\n",
    "print('')\n",
    "\n",
    "# Senos, Cosenos y el número pi\n",
    "pi = np.pi\n",
    "print(f'Representación del número pi en numpy: {pi}')\n",
    "print(f'Función seno (np.sin(número que queramos evaluar)): {np.sin(pi)}')\n",
    "print(f'Función coseno (np.cos(número que queramos evaluar)): {np.cos(pi)}')"
   ]
  },
  {
   "cell_type": "markdown",
   "metadata": {},
   "source": [
    "En la documentación de esta librería encontraréis muchas más funciones que os serán utiles para procesar datos "
   ]
  },
  {
   "cell_type": "markdown",
   "metadata": {},
   "source": [
    "### Operaciones lógicas"
   ]
  },
  {
   "cell_type": "markdown",
   "metadata": {},
   "source": [
    "También es posible realizar operaciones con booleanos, como introducción, solo utilizaremos los operadores de &, | y ==."
   ]
  },
  {
   "cell_type": "code",
   "execution_count": 49,
   "metadata": {},
   "outputs": [
    {
     "name": "stdout",
     "output_type": "stream",
     "text": [
      "True\n",
      "False\n"
     ]
    }
   ],
   "source": [
    "# El operador & (o and) indica si se cumplen ambas condiciones al mismo tiempo\n",
    "print(True & True)\n",
    "print(False and True)"
   ]
  },
  {
   "cell_type": "code",
   "execution_count": 52,
   "metadata": {},
   "outputs": [
    {
     "name": "stdout",
     "output_type": "stream",
     "text": [
      "True\n",
      "False\n"
     ]
    }
   ],
   "source": [
    "# El operador | (o or) indica si se cumple al menos una condición de las dos\n",
    "print(True or False)\n",
    "print(False | False)"
   ]
  },
  {
   "cell_type": "code",
   "execution_count": 51,
   "metadata": {},
   "outputs": [
    {
     "name": "stdout",
     "output_type": "stream",
     "text": [
      "True\n",
      "False\n"
     ]
    }
   ],
   "source": [
    "# El operador == verifica si los miembros a ambos lados son iguales\n",
    "print(2 == 2.0)\n",
    "print('cadena' == numero)"
   ]
  },
  {
   "cell_type": "markdown",
   "metadata": {},
   "source": [
    "### Operaciones con cadenas"
   ]
  },
  {
   "cell_type": "code",
   "execution_count": 54,
   "metadata": {},
   "outputs": [],
   "source": [
    "cadena = 'Esto es una cadena de caracteres'"
   ]
  },
  {
   "cell_type": "code",
   "execution_count": 55,
   "metadata": {},
   "outputs": [
    {
     "data": {
      "text/plain": [
       "'ESTO ES UNA CADENA DE CARACTERES'"
      ]
     },
     "execution_count": 55,
     "metadata": {},
     "output_type": "execute_result"
    }
   ],
   "source": [
    "# Pasar todo a mayúsculas\n",
    "cadena.upper()"
   ]
  },
  {
   "cell_type": "code",
   "execution_count": 56,
   "metadata": {},
   "outputs": [
    {
     "data": {
      "text/plain": [
       "'esto es una cadena de caracteres'"
      ]
     },
     "execution_count": 56,
     "metadata": {},
     "output_type": "execute_result"
    }
   ],
   "source": [
    "# Pasar todo a minúsculas\n",
    "cadena.lower()"
   ]
  },
  {
   "cell_type": "code",
   "execution_count": 57,
   "metadata": {},
   "outputs": [
    {
     "data": {
      "text/plain": [
       "'Esto es una cadena de caracteres'"
      ]
     },
     "execution_count": 57,
     "metadata": {},
     "output_type": "execute_result"
    }
   ],
   "source": [
    "# Realmente no he modificado el objeto inicial al no declararlo como tal\n",
    "cadena"
   ]
  },
  {
   "cell_type": "code",
   "execution_count": 59,
   "metadata": {},
   "outputs": [
    {
     "name": "stdout",
     "output_type": "stream",
     "text": [
      "True\n",
      "False\n"
     ]
    }
   ],
   "source": [
    "# Verificar si empieza por una expresión en concreto\n",
    "print(cadena.startswith('Esto'))\n",
    "print(cadena.startswith('esto'))"
   ]
  },
  {
   "cell_type": "code",
   "execution_count": 60,
   "metadata": {},
   "outputs": [
    {
     "name": "stdout",
     "output_type": "stream",
     "text": [
      "True\n",
      "False\n"
     ]
    }
   ],
   "source": [
    "# Verificar si termina por alguna expresión concreta\n",
    "print(cadena.endswith('res'))\n",
    "print(cadena.endswith('error'))"
   ]
  },
  {
   "cell_type": "code",
   "execution_count": null,
   "metadata": {},
   "outputs": [],
   "source": [
    "# Reemplazar una cadena por otra\n",
    "print(cadena.replace('caracteres','strings'))"
   ]
  },
  {
   "cell_type": "markdown",
   "metadata": {},
   "source": [
    "Una manera más \"flexible\" de identificar patrones dentro de una cadena de caracteres se realiza mediante el uso de expresiones regulares (regex). Enlace para saber más sobre expresiones regulares: https://docs.python.org/3/library/re.html"
   ]
  },
  {
   "cell_type": "markdown",
   "metadata": {},
   "source": [
    "## Fechas como tipo de datos"
   ]
  },
  {
   "cell_type": "markdown",
   "metadata": {},
   "source": [
    "Para trabajar con fechas es recomendable usar la librería datetime, dado que esta librería es extensa, vamos a utilizar unas funciones básicas para trabajar y generar fechas."
   ]
  },
  {
   "cell_type": "code",
   "execution_count": 61,
   "metadata": {},
   "outputs": [],
   "source": [
    "from datetime import datetime, timedelta, date"
   ]
  },
  {
   "cell_type": "markdown",
   "metadata": {},
   "source": [
    "La funcion datetime nos servirá para generar fechas completas, timedelta para sumar o restar días o segundos y date es una estructura alternativa que prescinde de horas minutos y segundos."
   ]
  },
  {
   "cell_type": "code",
   "execution_count": 62,
   "metadata": {},
   "outputs": [
    {
     "data": {
      "text/plain": [
       "datetime.datetime(2021, 9, 10, 18, 28, 36, 323295)"
      ]
     },
     "execution_count": 62,
     "metadata": {},
     "output_type": "execute_result"
    }
   ],
   "source": [
    "# Para obtener la fecha y hora de este momento\n",
    "datetime.now()"
   ]
  },
  {
   "cell_type": "code",
   "execution_count": 65,
   "metadata": {},
   "outputs": [
    {
     "data": {
      "text/plain": [
       "datetime.datetime(2012, 6, 11, 21, 33, 55, 874)"
      ]
     },
     "execution_count": 65,
     "metadata": {},
     "output_type": "execute_result"
    }
   ],
   "source": [
    "# Indicar una fecha determinada\n",
    "fecha = datetime(2012,6,11,21,33,55,874) # Año, mes, día, horas, minutos, segundos y microsegundos\n",
    "fecha"
   ]
  },
  {
   "cell_type": "code",
   "execution_count": 66,
   "metadata": {},
   "outputs": [
    {
     "name": "stdout",
     "output_type": "stream",
     "text": [
      "2012-06-11 21:33:55.000874\n"
     ]
    }
   ],
   "source": [
    "# Si muestro por pantalla con un print esta fecha me formatea el resultado\n",
    "print(fecha)"
   ]
  },
  {
   "cell_type": "code",
   "execution_count": 74,
   "metadata": {},
   "outputs": [
    {
     "name": "stdout",
     "output_type": "stream",
     "text": [
      "El año es el 2012\n",
      "El mes es el 6\n",
      "El dia es el 11\n",
      "La hora es las 21\n",
      "Los minutos son 33\n",
      "Los segundos son 55\n",
      "Los microsegundos son 874\n"
     ]
    }
   ],
   "source": [
    "# Es posible acceder a cada uno de los elementos de la fecha\n",
    "\n",
    "print('El año es el {}'.format(fecha.year))\n",
    "print('El mes es el {}'.format(fecha.month))\n",
    "print('El dia es el {}'.format(fecha.day))\n",
    "print('La hora es las {}'.format(fecha.hour))\n",
    "print('Los minutos son {}'.format(fecha.minute))\n",
    "print('Los segundos son {}'.format(fecha.second))\n",
    "print('Los microsegundos son {}'.format(fecha.microsecond))"
   ]
  },
  {
   "cell_type": "code",
   "execution_count": 86,
   "metadata": {},
   "outputs": [
    {
     "data": {
      "text/plain": [
       "datetime.datetime(2013, 3, 6, 0, 0)"
      ]
     },
     "execution_count": 86,
     "metadata": {},
     "output_type": "execute_result"
    }
   ],
   "source": [
    "# En caso de no indicar alguno de los valores anteriores los imputa por defecto\n",
    "fecha_con_missing = datetime(2013,3,6)\n",
    "fecha_con_missing"
   ]
  },
  {
   "cell_type": "code",
   "execution_count": 87,
   "metadata": {},
   "outputs": [
    {
     "name": "stdout",
     "output_type": "stream",
     "text": [
      "2013-03-06 00:00:00\n"
     ]
    }
   ],
   "source": [
    "print(fecha_con_missing)"
   ]
  },
  {
   "cell_type": "markdown",
   "metadata": {},
   "source": [
    "### Estructura alternativa con la funcion date"
   ]
  },
  {
   "cell_type": "code",
   "execution_count": 80,
   "metadata": {},
   "outputs": [
    {
     "data": {
      "text/plain": [
       "datetime.date(2012, 6, 11)"
      ]
     },
     "execution_count": 80,
     "metadata": {},
     "output_type": "execute_result"
    }
   ],
   "source": [
    "# La funcion date solo necesita tres atributos, año, mes y día\n",
    "fecha_date = date(2012,6,11)\n",
    "fecha_date"
   ]
  },
  {
   "cell_type": "code",
   "execution_count": 81,
   "metadata": {},
   "outputs": [
    {
     "name": "stdout",
     "output_type": "stream",
     "text": [
      "2012-06-11\n"
     ]
    }
   ],
   "source": [
    "print(fecha_date)"
   ]
  },
  {
   "cell_type": "code",
   "execution_count": 88,
   "metadata": {},
   "outputs": [
    {
     "name": "stdout",
     "output_type": "stream",
     "text": [
      "El año es el 2012\n",
      "El mes es el 6\n",
      "El dia es el 11\n"
     ]
    }
   ],
   "source": [
    "# De la misma forma puedo acceder a los argumentos de la fecha que he construido con date\n",
    "print('El año es el {}'.format(fecha_date.year))\n",
    "print('El mes es el {}'.format(fecha_date.month))\n",
    "print('El dia es el {}'.format(fecha_date.day))"
   ]
  },
  {
   "cell_type": "markdown",
   "metadata": {},
   "source": [
    "### Operaciones con fechas"
   ]
  },
  {
   "cell_type": "code",
   "execution_count": 75,
   "metadata": {},
   "outputs": [
    {
     "data": {
      "text/plain": [
       "datetime.datetime(2012, 6, 14, 21, 33, 55, 874)"
      ]
     },
     "execution_count": 75,
     "metadata": {},
     "output_type": "execute_result"
    }
   ],
   "source": [
    "# Añadir 3 días a la fecha anterior\n",
    "fecha + timedelta(days = 3)"
   ]
  },
  {
   "cell_type": "code",
   "execution_count": 76,
   "metadata": {},
   "outputs": [
    {
     "data": {
      "text/plain": [
       "datetime.datetime(2012, 6, 11, 15, 33, 55, 874)"
      ]
     },
     "execution_count": 76,
     "metadata": {},
     "output_type": "execute_result"
    }
   ],
   "source": [
    "# Restar 6 horas\n",
    "fecha - timedelta(seconds = 3600*6) # Se deben pasar los segundos a horas y restar"
   ]
  },
  {
   "cell_type": "markdown",
   "metadata": {},
   "source": [
    "### Convertir strings a fechas y viceversa "
   ]
  },
  {
   "cell_type": "markdown",
   "metadata": {},
   "source": [
    "Para pasar de fecha a cadena es un cambio inmediato, basta con indicarselo, sin embargo para pasar de cadena a fecha, es necesario indicarle un formato. \n",
    "\n",
    "También es posible indicar un formato a una fecha para que una cadena quede formateada de una forma concreta."
   ]
  },
  {
   "cell_type": "code",
   "execution_count": 90,
   "metadata": {},
   "outputs": [
    {
     "data": {
      "text/plain": [
       "'2012-06-11 21:33:55.000874'"
      ]
     },
     "execution_count": 90,
     "metadata": {},
     "output_type": "execute_result"
    }
   ],
   "source": [
    "str_fecha = str(fecha)\n",
    "str_fecha"
   ]
  },
  {
   "cell_type": "code",
   "execution_count": 97,
   "metadata": {},
   "outputs": [
    {
     "data": {
      "text/plain": [
       "datetime.datetime(2012, 6, 11, 21, 33, 55, 874)"
      ]
     },
     "execution_count": 97,
     "metadata": {},
     "output_type": "execute_result"
    }
   ],
   "source": [
    "datetime.strptime(str_fecha,'%Y-%m-%d %H:%M:%S.%f')"
   ]
  },
  {
   "cell_type": "code",
   "execution_count": 98,
   "metadata": {},
   "outputs": [
    {
     "data": {
      "text/plain": [
       "True"
      ]
     },
     "execution_count": 98,
     "metadata": {},
     "output_type": "execute_result"
    }
   ],
   "source": [
    "# Verificar que los dos elementos son iguales\n",
    "fecha == datetime.strptime(str_fecha,'%Y-%m-%d %H:%M:%S.%f')"
   ]
  }
 ],
 "metadata": {
  "kernelspec": {
   "display_name": "Python 3 (ipykernel)",
   "language": "python",
   "name": "python3"
  },
  "language_info": {
   "codemirror_mode": {
    "name": "ipython",
    "version": 3
   },
   "file_extension": ".py",
   "mimetype": "text/x-python",
   "name": "python",
   "nbconvert_exporter": "python",
   "pygments_lexer": "ipython3",
   "version": "3.9.7"
  }
 },
 "nbformat": 4,
 "nbformat_minor": 4
}
