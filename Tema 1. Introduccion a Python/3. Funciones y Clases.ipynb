{
 "cells": [
  {
   "cell_type": "markdown",
   "metadata": {},
   "source": [
    "# 3. Funciones y clases"
   ]
  },
  {
   "cell_type": "markdown",
   "metadata": {},
   "source": [
    "A la hora de hacer un desarrollo es muy frecuente encontrar una serie de operaciones que se deben repetir una vez tras otra. Por ello es buena práctica resumir todas esas operaciones en una función que pueda ser llamada tantas veces como sea necesaria y de esa forma facilitarnos el trabajo de reescribir código muchas veces."
   ]
  },
  {
   "cell_type": "markdown",
   "metadata": {},
   "source": [
    "## Cómo definir funciones"
   ]
  },
  {
   "cell_type": "markdown",
   "metadata": {},
   "source": [
    "Una función es un \"trozo de código\" que indica una serie de instrucciones a realizar. Estas instrucciones pueden venir dadas por argumentos de entrada y pueden devolver argumentos de salida. Para definir una función debemos escribir def y a continuación el nombre de la función junto con sus argumentos de entrada si los hubiera."
   ]
  },
  {
   "cell_type": "code",
   "execution_count": 3,
   "metadata": {},
   "outputs": [
    {
     "data": {
      "text/plain": [
       "'Barcelona'"
      ]
     },
     "execution_count": 3,
     "metadata": {},
     "output_type": "execute_result"
    }
   ],
   "source": [
    "def choose_string(l):\n",
    "    \"\"\"\n",
    "    Parameters:\n",
    "    \n",
    "    l: list. List of strings\n",
    "    \n",
    "    Output:\n",
    "    \n",
    "    s: string. Longest string in the list. If there is a tie, choose the last one. \n",
    "    \"\"\"\n",
    "    s = l[0]\n",
    "    for string in l:\n",
    "        if len(s) <= len(string):\n",
    "            s = string\n",
    "    return s\n",
    "\n",
    "choose_string([\"Oviedo\", \"Salamanca\", \"Barcelona\"])"
   ]
  },
  {
   "cell_type": "code",
   "execution_count": 4,
   "metadata": {},
   "outputs": [
    {
     "name": "stdout",
     "output_type": "stream",
     "text": [
      "Barcelona\n"
     ]
    }
   ],
   "source": [
    "# Podemos eliminar el argumento de salida\n",
    "def choose_string_no_output(l):\n",
    "    \"\"\"\n",
    "    Parameters:\n",
    "    \n",
    "    l: list. List of strings\n",
    "    \n",
    "    Print the longest string. In case of tie, print the last one\n",
    "    \"\"\"\n",
    "    s = l[0]\n",
    "    for string in l:\n",
    "        if len(s) <= len(string):\n",
    "            s = string\n",
    "    print(s)\n",
    "\n",
    "choose_string_no_output([\"Oviedo\", \"Salamanca\", \"Barcelona\"])\n"
   ]
  },
  {
   "cell_type": "code",
   "execution_count": 14,
   "metadata": {},
   "outputs": [
    {
     "data": {
      "text/plain": [
       "'Oviedo-Salamanca-Barcelona'"
      ]
     },
     "execution_count": 14,
     "metadata": {},
     "output_type": "execute_result"
    }
   ],
   "source": [
    "# Si no conocemos cuantos argumentos de entrada vamos a recibir podemos utilizar la expresión *\n",
    "def concat_strings(sep,*args):\n",
    "    \"\"\"\n",
    "    Parameters:\n",
    "    \n",
    "    sep: str. String that will separate every string from *args\n",
    "    \n",
    "    Output:\n",
    "    \n",
    "    s = str. Concat all strings in *args by sep\n",
    "    \"\"\"\n",
    "    \n",
    "    s = ''\n",
    "    \n",
    "    for string in args:\n",
    "        if s == '':\n",
    "            s = string\n",
    "        else: \n",
    "            s += sep + string\n",
    "    return s\n",
    "\n",
    "s = concat_strings('-', *[\"Oviedo\", \"Salamanca\", \"Barcelona\"])\n",
    "\n",
    "s"
   ]
  },
  {
   "cell_type": "code",
   "execution_count": 8,
   "metadata": {},
   "outputs": [
    {
     "name": "stdout",
     "output_type": "stream",
     "text": [
      "Welcome Roberto Gomez, how are you today?\n"
     ]
    }
   ],
   "source": [
    "# También es posible realizar una función con varios argumentos de entrada que vengan a partir de un diccionario con **\n",
    "def introduction_function(first_name,last_name):\n",
    "    print(f'Welcome {first_name} {last_name}, how are you today?')\n",
    "    \n",
    "introduction_function(**{\"first_name\":\"Roberto\",\"last_name\": \"Gomez\"})"
   ]
  },
  {
   "cell_type": "markdown",
   "metadata": {},
   "source": [
    "Esta última expresión puede ser muy importante para declarar los parámetros de entrada de un modelo de Machine Learning."
   ]
  },
  {
   "cell_type": "markdown",
   "metadata": {},
   "source": [
    "### Consejos para realizar funciones\n",
    "1. Que sean cortas!!\n",
    "2. Que sean concisas!!\n",
    "3. Que estén optimizadas!!"
   ]
  },
  {
   "cell_type": "markdown",
   "metadata": {},
   "source": [
    "## Definir Clases"
   ]
  },
  {
   "cell_type": "markdown",
   "metadata": {},
   "source": [
    "Las clases en Python son objetos que contienen una serie de métodos (funciones) internos que permiten realizar acciones dentro del objeto, almacenando la información que se requiera durante el proceso."
   ]
  },
  {
   "cell_type": "code",
   "execution_count": 23,
   "metadata": {},
   "outputs": [
    {
     "name": "stdout",
     "output_type": "stream",
     "text": [
      "El perímetro del cuadrado es 20\n",
      "El area del cuadrado es 25\n"
     ]
    }
   ],
   "source": [
    "class square():\n",
    "    \n",
    "    def __init__(self,side):\n",
    "        self.side = side\n",
    "    \n",
    "    def perimeter(self):\n",
    "        perimeter = 4*self.side\n",
    "        return perimeter\n",
    "    \n",
    "    def area(self):\n",
    "        area = self.side*self.side\n",
    "        return area\n",
    "    \n",
    "cuadrado = square(5)\n",
    "print(f\"El perímetro del cuadrado es {cuadrado.perimeter()}\")\n",
    "print(f\"El area del cuadrado es {cuadrado.area()}\")"
   ]
  },
  {
   "cell_type": "code",
   "execution_count": 35,
   "metadata": {},
   "outputs": [],
   "source": [
    "# Existen clases que pueden ser construidas a partir de otras clases\n",
    "\n",
    "class cube(square):\n",
    "    \n",
    "    def __init__(self,side):\n",
    "        self.side = side\n",
    "        super().__init__(self.side)\n",
    "        \n",
    "    def area(self):\n",
    "        area = 6*super().area()\n",
    "        return area\n",
    "    \n",
    "    def volume(self):\n",
    "        volume = self.side*self.side*self.side\n",
    "        return volume"
   ]
  },
  {
   "cell_type": "code",
   "execution_count": 36,
   "metadata": {},
   "outputs": [
    {
     "data": {
      "text/plain": [
       "54"
      ]
     },
     "execution_count": 36,
     "metadata": {},
     "output_type": "execute_result"
    }
   ],
   "source": [
    "cubo = cube(3)\n",
    "cubo.area()"
   ]
  },
  {
   "cell_type": "code",
   "execution_count": 38,
   "metadata": {},
   "outputs": [
    {
     "data": {
      "text/plain": [
       "27"
      ]
     },
     "execution_count": 38,
     "metadata": {},
     "output_type": "execute_result"
    }
   ],
   "source": [
    "cubo.volume()"
   ]
  },
  {
   "cell_type": "markdown",
   "metadata": {},
   "source": [
    "Esta clase tiene un error de definición, ¿cual es? ¿como lo podríamos solucionar?"
   ]
  },
  {
   "cell_type": "markdown",
   "metadata": {},
   "source": [
    "Para más documentación sobre clases os dejo el siguiente enlace: https://docs.python.org/3/tutorial/classes.html"
   ]
  },
  {
   "cell_type": "code",
   "execution_count": null,
   "metadata": {},
   "outputs": [],
   "source": []
  }
 ],
 "metadata": {
  "kernelspec": {
   "display_name": "Python 3 (ipykernel)",
   "language": "python",
   "name": "python3"
  },
  "language_info": {
   "codemirror_mode": {
    "name": "ipython",
    "version": 3
   },
   "file_extension": ".py",
   "mimetype": "text/x-python",
   "name": "python",
   "nbconvert_exporter": "python",
   "pygments_lexer": "ipython3",
   "version": "3.9.7"
  }
 },
 "nbformat": 4,
 "nbformat_minor": 4
}
