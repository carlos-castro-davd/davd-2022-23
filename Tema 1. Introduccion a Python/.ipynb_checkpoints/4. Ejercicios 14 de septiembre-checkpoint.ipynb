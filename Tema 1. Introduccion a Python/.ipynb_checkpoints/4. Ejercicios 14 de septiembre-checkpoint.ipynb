{
 "cells": [
  {
   "cell_type": "markdown",
   "metadata": {},
   "source": [
    "# Ejercicios propuestos"
   ]
  },
  {
   "cell_type": "code",
   "execution_count": 1,
   "metadata": {},
   "outputs": [],
   "source": [
    "import datetime\n",
    "import numpy as np"
   ]
  },
  {
   "cell_type": "markdown",
   "metadata": {},
   "source": [
    "### Ejercicio 1: Crea una lista con las fechas y horas de clase desde hoy (13 de septiembre) hasta la última clase (7 de diciembre), ten en cuenta que los festivos no serán horas de clase.  "
   ]
  },
  {
   "cell_type": "code",
   "execution_count": 7,
   "metadata": {},
   "outputs": [
    {
     "data": {
      "text/plain": [
       "[datetime.datetime(2022, 9, 14, 18, 0),\n",
       " datetime.datetime(2022, 9, 21, 18, 0),\n",
       " datetime.datetime(2022, 9, 28, 18, 0),\n",
       " datetime.datetime(2022, 10, 5, 18, 0),\n",
       " datetime.datetime(2022, 10, 19, 18, 0),\n",
       " datetime.datetime(2022, 10, 26, 18, 0),\n",
       " datetime.datetime(2022, 11, 2, 18, 0),\n",
       " datetime.datetime(2022, 11, 16, 18, 0),\n",
       " datetime.datetime(2022, 11, 23, 18, 0),\n",
       " datetime.datetime(2022, 11, 30, 18, 0),\n",
       " datetime.datetime(2022, 12, 7, 18, 0)]"
      ]
     },
     "execution_count": 7,
     "metadata": {},
     "output_type": "execute_result"
    }
   ],
   "source": [
    "hoy=datetime.datetime(2022,9,14,18)\n",
    "ult=datetime.datetime(2022,12,7,18)\n",
    "#diferencia=(ult-hoy).days/7\n",
    "lista=[hoy]\n",
    "while (lista[-1]<ult): \n",
    "    hoy+=datetime.timedelta(days=7)\n",
    "    if (hoy == datetime.datetime(2022,10,12,18)) | (hoy == datetime.datetime(2022,11,9,18)):\n",
    "        continue\n",
    "    lista.append(hoy)\n",
    "    \n",
    "lista"
   ]
  },
  {
   "cell_type": "markdown",
   "metadata": {},
   "source": [
    "### Ejercicio 2: Crea una función para efectuar el producto real de dos matrices"
   ]
  },
  {
   "cell_type": "code",
   "execution_count": 2,
   "metadata": {},
   "outputs": [
    {
     "data": {
      "text/plain": [
       "[[17, 21, 22], [30, 38, 36]]"
      ]
     },
     "execution_count": 2,
     "metadata": {},
     "output_type": "execute_result"
    }
   ],
   "source": [
    "# Solución propuesta por Álvaro Guerrero\n",
    "\n",
    "def realProduct(A, B):\n",
    "\n",
    "    # \"Función que ejecuta el producto real entre dos matrices A y B\"\n",
    "\n",
    "    if len(A[0])!=len(B):\n",
    "\n",
    "        raise Exception(\"Las dimensiones de las matrices no coinciden.\")\n",
    "\n",
    "    C = []\n",
    "\n",
    "    for i in range(len(A)):\n",
    "\n",
    "        row = []\n",
    "\n",
    "        for j in range(len(B[0])):\n",
    "\n",
    "            row.append(0)\n",
    "\n",
    "        C.append(row)\n",
    "\n",
    "    for i in range(len(A)):\n",
    "\n",
    "        for j in range(len(B[0])):\n",
    "\n",
    "            for k in range(len(B)):\n",
    "\n",
    "                C[i][j] += A[i][k] * B[k][j]\n",
    "\n",
    "    return C\n",
    "\n",
    " \n",
    "\n",
    "# Prueba de la función\n",
    "\n",
    "a =[[1,2,3,2],[1,3,4,5]]\n",
    "\n",
    "b =[[1,2,5],[2,4,4],[2,1,1],[3,4,3]]\n",
    "\n",
    "realProduct(a, b)"
   ]
  },
  {
   "cell_type": "markdown",
   "metadata": {},
   "source": [
    "### Ejercicio 3: Define una clase de números complejos cuyos métodos sean, al menos, el modulo y el argumento."
   ]
  },
  {
   "cell_type": "code",
   "execution_count": 15,
   "metadata": {},
   "outputs": [],
   "source": [
    "class numeroComplejo():\n",
    "    \n",
    "    def __init__(self,a,b):\n",
    "        self.real=a\n",
    "        self.imaginaria=b\n",
    "        \n",
    "    def modulo(self):\n",
    "        modulo=(self.real**2 + self.imaginaria**2)**0.5\n",
    "        return modulo\n",
    "    \n",
    "    def argumento(self):\n",
    "        argumento=np.arctan(self.imaginaria/self.real)\n",
    "        return argumento\n",
    "        \n",
    "    \n",
    "    "
   ]
  },
  {
   "cell_type": "code",
   "execution_count": 18,
   "metadata": {},
   "outputs": [],
   "source": [
    "num = numeroComplejo(0.5,np.sqrt(3)/2)"
   ]
  },
  {
   "cell_type": "code",
   "execution_count": 19,
   "metadata": {},
   "outputs": [
    {
     "data": {
      "text/plain": [
       "1.0"
      ]
     },
     "execution_count": 19,
     "metadata": {},
     "output_type": "execute_result"
    }
   ],
   "source": [
    "num.modulo()"
   ]
  },
  {
   "cell_type": "code",
   "execution_count": 20,
   "metadata": {},
   "outputs": [
    {
     "data": {
      "text/plain": [
       "1.0471975511965976"
      ]
     },
     "execution_count": 20,
     "metadata": {},
     "output_type": "execute_result"
    }
   ],
   "source": [
    "num.argumento()"
   ]
  },
  {
   "cell_type": "markdown",
   "metadata": {},
   "source": [
    "### Ejercicio 4: Define en funciones, usando la clase anterior, las operaciones básicas entre números complejos (sumar, restar, multiplicar y dividir). Puede ser conveniente añadir algún método al ejercicio anterior"
   ]
  },
  {
   "cell_type": "code",
   "execution_count": null,
   "metadata": {},
   "outputs": [],
   "source": []
  }
 ],
 "metadata": {
  "kernelspec": {
   "display_name": "Python 3 (ipykernel)",
   "language": "python",
   "name": "python3"
  },
  "language_info": {
   "codemirror_mode": {
    "name": "ipython",
    "version": 3
   },
   "file_extension": ".py",
   "mimetype": "text/x-python",
   "name": "python",
   "nbconvert_exporter": "python",
   "pygments_lexer": "ipython3",
   "version": "3.9.7"
  }
 },
 "nbformat": 4,
 "nbformat_minor": 4
}
